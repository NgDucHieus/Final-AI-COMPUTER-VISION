{
 "cells": [
  {
   "cell_type": "code",
   "execution_count": 2,
   "id": "29961483",
   "metadata": {},
   "outputs": [
    {
     "name": "stdout",
     "output_type": "stream",
     "text": [
      "\\begin{bmatrix} \\left[\\begin{matrix}a_{11} & a_{12} & a_{13} & a_{14}\\\\a_{21} & a_{22} & a_{23} & a_{24}\\\\a_{31} & a_{32} & a_{33} & a_{34}\\end{matrix}\\right] \\end{bmatrix}\n"
     ]
    }
   ],
   "source": [
    "from sympy import Matrix\n",
    "from sympy.printing import latex\n",
    "\n",
    "# Define the matrix size m x n\n",
    "m, n = 3, 4  # You can change the dimensions as needed\n",
    "\n",
    "# Create a symbolic matrix with entries a_ij\n",
    "matrix = Matrix(m, n, lambda i, j: f'a{i+1}{j+1}')\n",
    "\n",
    "# Generate the LaTeX formatted string for the matrix\n",
    "latex_matrix = latex(matrix)\n",
    "\n",
    "# Display the LaTeX formatted matrix expression\n",
    "print(f\"\\\\begin{{bmatrix}} {latex_matrix} \\\\end{{bmatrix}}\")\n"
   ]
  },
  {
   "cell_type": "code",
   "execution_count": null,
   "id": "a0a68584",
   "metadata": {},
   "outputs": [],
   "source": []
  },
  {
   "cell_type": "code",
   "execution_count": null,
   "id": "5f57eb84",
   "metadata": {},
   "outputs": [],
   "source": []
  },
  {
   "cell_type": "markdown",
   "id": "d3866b7d",
   "metadata": {},
   "source": [
    "\\begin{bmatrix}\n",
    "a_{11} & a_{12} & \\cdots & a_{1n} \\\\\n",
    "a_{21} & a_{22} & \\cdots & a_{2n} \\\\\n",
    "\\vdots & \\vdots & \\ddots & \\vdots \\\\\n",
    "a_{m1} & a_{m2} & \\cdots & a_{mn}\n",
    "\\end{bmatrix}\n"
   ]
  },
  {
   "cell_type": "code",
   "execution_count": 2,
   "id": "1e7b6893",
   "metadata": {},
   "outputs": [
    {
     "name": "stderr",
     "output_type": "stream",
     "text": [
      "C:\\Users\\Admin\\anaconda3\\lib\\site-packages\\matplotlib\\animation.py:887: UserWarning: Animation was deleted without rendering anything. This is most likely not intended. To prevent deletion, assign the Animation to a variable, e.g. `anim`, that exists until you have outputted the Animation using `plt.show()` or `anim.save()`.\n",
      "  warnings.warn(\n",
      "MovieWriter imagemagick unavailable; using Pillow instead.\n"
     ]
    },
    {
     "data": {
      "text/plain": [
       "'matrix_animation.gif'"
      ]
     },
     "execution_count": 2,
     "metadata": {},
     "output_type": "execute_result"
    },
    {
     "data": {
      "image/png": "[encoded data removed]",
      "text/plain": [
       "<Figure size 640x480 with 1 Axes>"
      ]
     },
     "metadata": {},
     "output_type": "display_data"
    }
   ],
   "source": [
    "import numpy as np\n",
    "import matplotlib.pyplot as plt\n",
    "from matplotlib.animation import FuncAnimation\n",
    "\n",
    "# Ma trận hàng ban đầu\n",
    "row_matrix = np.array([1, 2, 3, 4])\n",
    "\n",
    "# Hàm vẽ\n",
    "def update(frame):\n",
    "    ax.clear()\n",
    "    # Vẽ các phần tử từ ma trận hàng vào các hàng của ma trận cột\n",
    "    for i in range(frame + 1):\n",
    "        ax.text(0.5, 0.8 - i * 0.2, str(row_matrix[i]), ha='center', va='center', fontsize=20)\n",
    "    ax.set_xlim(0, 1)\n",
    "    ax.set_ylim(0, 1)\n",
    "    ax.axis('off')  # Tắt trục\n",
    "\n",
    "# Tạo plot\n",
    "fig, ax = plt.subplots()\n",
    "\n",
    "# Tạo animation\n",
    "ani = FuncAnimation(fig, update, frames=len(row_matrix), interval=500, repeat=False)\n",
    "\n",
    "# Lưu animation dưới dạng gif\n",
    "gif_path = 'matrix_animation.gif'\n",
    "ani.save(gif_path, writer='imagemagick', fps=2)\n",
    "\n",
    "gif_path\n"
   ]
  },
  {
   "cell_type": "code",
   "execution_count": 3,
   "id": "1cf9d92b",
   "metadata": {},
   "outputs": [
    {
     "name": "stderr",
     "output_type": "stream",
     "text": [
      "MovieWriter imagemagick unavailable; using Pillow instead.\n"
     ]
    },
    {
     "data": {
      "text/plain": [
       "'column_to_row_animation.gif'"
      ]
     },
     "execution_count": 3,
     "metadata": {},
     "output_type": "execute_result"
    },
    {
     "data": {
      "image/png": "[encoded data removed]",
      "text/plain": [
       "<Figure size 640x480 with 1 Axes>"
      ]
     },
     "metadata": {},
     "output_type": "display_data"
    }
   ],
   "source": [
    "# Tạo ma trận cột ban đầu\n",
    "column_matrix = np.array([1, 2, 3, 4])\n",
    "\n",
    "# Hàm cập nhật animation\n",
    "def update_column_to_row(frame):\n",
    "    ax.clear()\n",
    "    # Vẽ các phần tử từ ma trận cột vào các cột của ma trận hàng\n",
    "    for i in range(frame + 1):\n",
    "        ax.text(0.2 + i * 0.2, 0.5, str(column_matrix[i]), ha='center', va='center', fontsize=20)\n",
    "    ax.set_xlim(0, 1)\n",
    "    ax.set_ylim(0, 1)\n",
    "    ax.axis('off')  # Tắt trục\n",
    "\n",
    "# Tạo plot\n",
    "fig, ax = plt.subplots()\n",
    "\n",
    "# Tạo animation từ ma trận cột sang ma trận hàng\n",
    "ani_column_to_row = FuncAnimation(fig, update_column_to_row, frames=len(column_matrix), interval=500, repeat=False)\n",
    "\n",
    "# Lưu animation dưới dạng gif\n",
    "gif_path_column_to_row = 'column_to_row_animation.gif'\n",
    "ani_column_to_row.save(gif_path_column_to_row, writer='imagemagick', fps=2)\n",
    "\n",
    "gif_path_column_to_row\n"
   ]
  },
  {
   "cell_type": "code",
   "execution_count": 4,
   "id": "7e238b63",
   "metadata": {},
   "outputs": [
    {
     "name": "stderr",
     "output_type": "stream",
     "text": [
      "UsageError: Cell magic `%%manim` not found.\n"
     ]
    }
   ],
   "source": [
    "%%manim -ql --disable_caching --preview MatrixTransition\n",
    "\n",
    "from manim import *\n",
    "\n",
    "class MatrixTransition(Scene):\n",
    "    def construct(self):\n",
    "        # Create a matrix and a text\n",
    "        row_matrix = Matrix([[1, 2, 3, 4]])\n",
    "        column_matrix = Matrix([[1], [2], [3], [4]])\n",
    "\n",
    "        # Position the row matrix\n",
    "        row_matrix.shift(UP)\n",
    "\n",
    "        # Display the row matrix\n",
    "        self.play(Write(row_matrix))\n",
    "        self.wait(1)\n",
    "\n",
    "        # Transform the row matrix to the column matrix\n",
    "        self.play(Transform(row_matrix, column_matrix))\n",
    "        self.wait(1)\n"
   ]
  }
 ],
 "metadata": {
  "kernelspec": {
   "display_name": "Python 3 (ipykernel)",
   "language": "python",
   "name": "python3"
  },
  "language_info": {
   "codemirror_mode": {
    "name": "ipython",
    "version": 3
   },
   "file_extension": ".py",
   "mimetype": "text/x-python",
   "name": "python",
   "nbconvert_exporter": "python",
   "pygments_lexer": "ipython3",
   "version": "3.9.13"
  }
 },
 "nbformat": 4,
 "nbformat_minor": 5
}

{
 "cells": [
  {
   "cell_type": "code",
   "execution_count": 11,
   "id": "b8268c73-e55a-47c8-a20d-c578d7d6dc8c",
   "metadata": {},
   "outputs": [],
   "source": [
    "image_secret = cv2.imread(\"original.jpg\", cv2.IMREAD_GRAYSCALE)\n",
    "if image_secret is None:\n",
    "    print(\"Không thể đọc tệp ảnh secret.jpg. Kiểm tra lại đường dẫn hoặc định dạng tệp.\")\n"
   ]
  },
  {
   "cell_type": "code",
   "execution_count": 13,
   "id": "1116e3c6-e38e-4f52-a5dd-bc31a6db79ce",
   "metadata": {},
   "outputs": [
    {
     "ename": "error",
     "evalue": "OpenCV(4.11.0) D:\\a\\opencv-python\\opencv-python\\opencv\\modules\\imgproc\\src\\resize.cpp:4208: error: (-215:Assertion failed) !ssize.empty() in function 'cv::resize'\n",
     "output_type": "error",
     "traceback": [
      "\u001b[1;31m---------------------------------------------------------------------------\u001b[0m",
      "\u001b[1;31merror\u001b[0m                                     Traceback (most recent call last)",
      "Cell \u001b[1;32mIn[13], line 20\u001b[0m\n\u001b[0;32m     17\u001b[0m image_secret \u001b[38;5;241m=\u001b[39m cv2\u001b[38;5;241m.\u001b[39mimread(\u001b[38;5;124m\"\u001b[39m\u001b[38;5;124msecret.jpg\u001b[39m\u001b[38;5;124m\"\u001b[39m, cv2\u001b[38;5;241m.\u001b[39mIMREAD_GRAYSCALE)\n\u001b[0;32m     19\u001b[0m \u001b[38;5;66;03m# Resize ảnh bí mật để cùng kích thước với ảnh gốc\u001b[39;00m\n\u001b[1;32m---> 20\u001b[0m image_secret \u001b[38;5;241m=\u001b[39m cv2\u001b[38;5;241m.\u001b[39mresize(image_secret, (image_original\u001b[38;5;241m.\u001b[39mshape[\u001b[38;5;241m1\u001b[39m], image_original\u001b[38;5;241m.\u001b[39mshape[\u001b[38;5;241m0\u001b[39m]))\n\u001b[0;32m     22\u001b[0m \u001b[38;5;66;03m# Biến đổi DWT cho ảnh gốc và ảnh bí mật\u001b[39;00m\n\u001b[0;32m     23\u001b[0m LL_original, subbands_original \u001b[38;5;241m=\u001b[39m dwt_transform(image_original)\n",
      "\u001b[1;31merror\u001b[0m: OpenCV(4.11.0) D:\\a\\opencv-python\\opencv-python\\opencv\\modules\\imgproc\\src\\resize.cpp:4208: error: (-215:Assertion failed) !ssize.empty() in function 'cv::resize'\n"
     ]
    }
   ],
   "source": [
    "import cv2\n",
    "import pywt\n",
    "import numpy as np\n",
    "\n",
    "# Hàm thực hiện DWT (Biến đổi Wavelet rời rạc)\n",
    "def dwt_transform(image):\n",
    "    coeffs = pywt.dwt2(image, 'haar')  # Biến đổi Haar wavelet\n",
    "    LL, (LH, HL, HH) = coeffs\n",
    "    return LL, (LH, HL, HH)\n",
    "\n",
    "# Hàm thực hiện IDWT (Biến đổi Wavelet nghịch)\n",
    "def idwt_transform(LL, subbands):\n",
    "    return pywt.idwt2((LL, subbands), 'haar')\n",
    "\n",
    "# Đọc ảnh gốc và ảnh bí mật\n",
    "image_original = cv2.imread(r\"C:\\Users\\Admin\\Desktop\\AI\\original.jpg\", cv2.IMREAD_GRAYSCALE)\n",
    "image_secret = cv2.imread(\"secret.jpg\", cv2.IMREAD_GRAYSCALE)\n",
    "\n",
    "# Resize ảnh bí mật để cùng kích thước với ảnh gốc\n",
    "image_secret = cv2.resize(image_secret, (image_original.shape[1], image_original.shape[0]))\n",
    "\n",
    "# Biến đổi DWT cho ảnh gốc và ảnh bí mật\n",
    "LL_original, subbands_original = dwt_transform(image_original)\n",
    "LL_secret, subbands_secret = dwt_transform(image_secret)\n",
    "\n",
    "# Nhúng ảnh bí mật vào ảnh gốc bằng cách thay thế một phần LL\n",
    "alpha = 0.2  # Hệ số điều chỉnh mức độ nhúng tin\n",
    "LL_embedded = LL_original + alpha * LL_secret\n",
    "\n",
    "# Biến đổi ngược IDWT để tái tạo ảnh chứa tin\n",
    "image_embedded = idwt_transform(LL_embedded, subbands_original)\n",
    "\n",
    "# Chuẩn hóa ảnh về dạng uint8 (0-255)\n",
    "image_embedded = np.clip(image_embedded, 0, 255).astype(np.uint8)\n",
    "\n",
    "# Lưu ảnh chứa tin\n",
    "cv2.imwrite(\"embedded_image.jpg\", image_embedded)\n",
    "\n",
    "# Hiển thị ảnh kết quả\n",
    "cv2.imshow(\"Embedded Image\", image_embedded)\n",
    "cv2.waitKey(0)\n",
    "cv2.destroyAllWindows()\n"
   ]
  }
 ],
 "metadata": {
  "kernelspec": {
   "display_name": "Python 3 (ipykernel)",
   "language": "python",
   "name": "python3"
  },
  "language_info": {
   "codemirror_mode": {
    "name": "ipython",
    "version": 3
   },
   "file_extension": ".py",
   "mimetype": "text/x-python",
   "name": "python",
   "nbconvert_exporter": "python",
   "pygments_lexer": "ipython3",
   "version": "3.9.21"
  }
 },
 "nbformat": 4,
 "nbformat_minor": 5
}
